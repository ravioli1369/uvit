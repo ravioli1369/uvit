{
 "cells": [
  {
   "cell_type": "code",
   "execution_count": 3,
   "metadata": {},
   "outputs": [],
   "source": [
    "import matplotlib.pyplot as plt\n",
    "import numpy as np\n",
    "import astropy.io.fits as fits\n",
    "import matplotlib\n",
    "import curvit as ct \n",
    "import pandas as pd\n",
    "params={\n",
    "    'text.usetex':True,\n",
    "    'font.family':'serif',\n",
    "    'xtick.minor.visible':True,\n",
    "    'ytick.minor.visible':True,\n",
    "    'xtick.top':True,\n",
    "    'ytick.left':True,\n",
    "    'ytick.right':True,\n",
    "    'xtick.direction':'out',\n",
    "    'ytick.direction':'out',\n",
    "    'xtick.minor.size':2.5,\n",
    "    'xtick.major.size':5,\n",
    "    'ytick.minor.size':2.5,\n",
    "    'ytick.major.size':5,\n",
    "    'axes.axisbelow':True\n",
    "}\n",
    "matplotlib.rcParams.update(params)"
   ]
  },
  {
   "cell_type": "code",
   "execution_count": 26,
   "metadata": {},
   "outputs": [],
   "source": [
    "# file1 = '/home/ravioli/astro/ksp/uvit/20160720_G05_230T02_9000000548_level2/uvit/RAS_VIS/uvt_02/F_02/AS1G05_230T02_9000000548uvtFIIPC00F1_l2ce.fits'\n",
    "# ct.makecurves(events_list=file1, radius=6, background='auto', bwidth=30, aperture_correction='fuv',threshold=15)"
   ]
  },
  {
   "cell_type": "code",
   "execution_count": 4,
   "metadata": {},
   "outputs": [],
   "source": [
    "base = 'AS1G05_230T02_9000000548uvtFIIPC00F1_l2ce'\n",
    "directory = ['/home/ravioli/astro/ksp/uvit/20160720_G05_230T02_9000000548_level2/uvit/RAS_VIS/uvt_01/F_01/', \\\n",
    "            '/home/ravioli/astro/ksp/uvit/20160720_G05_230T02_9000000548_level2/uvit/RAS_VIS/uvt_02/F_02/', \\\n",
    "            '/home/ravioli/astro/ksp/uvit/20160720_G05_230T02_9000000548_level2/uvit/RAS_VIS/uvt_03/F_03/', \\\n",
    "            '/home/ravioli/astro/ksp/uvit/20160720_G05_230T02_9000000548_level2/uvit/RAS_VIS/uvt_04/F_04/', \\\n",
    "            '/home/ravioli/astro/ksp/uvit/20160720_G05_230T02_9000000548_level2/uvit/RAS_VIS/uvt_05/F_05/', \\\n",
    "            '/home/ravioli/astro/ksp/uvit/20160720_G05_230T02_9000000548_level2/uvit/RAS_VIS/uvt_06/F_06/', \\\n",
    "            '/home/ravioli/astro/ksp/uvit/20160720_G05_230T02_9000000548_level2/uvit/RAS_VIS/uvt_07/F_07/', \\\n",
    "            '/home/ravioli/astro/ksp/uvit/20160720_G05_230T02_9000000548_level2/uvit/RAS_VIS/uvt_08/F_08/', \\\n",
    "            '/home/ravioli/astro/ksp/uvit/20160720_G05_230T02_9000000548_level2/uvit/RAS_VIS/uvt_09/F_09/', \\\n",
    "            '/home/ravioli/astro/ksp/uvit/20160720_G05_230T02_9000000548_level2/uvit/RAS_VIS/uvt_11/F_11/', \\\n",
    "            '/home/ravioli/astro/ksp/uvit/20160720_G05_230T02_9000000548_level2/uvit/RAS_VIS/uvt_13/F_13/', \\\n",
    "            '/home/ravioli/astro/ksp/uvit/20160720_G05_230T02_9000000548_level2/uvit/RAS_VIS/uvt_15/F_15/', \\\n",
    "            '/home/ravioli/astro/ksp/uvit/20160720_G05_230T02_9000000548_level2/uvit/RAS_VIS/uvt_17/F_17/', \\\n",
    "            '/home/ravioli/astro/ksp/uvit/20160720_G05_230T02_9000000548_level2/uvit/RAS_VIS/uvt_19/F_19/', \\\n",
    "            '/home/ravioli/astro/ksp/uvit/20160720_G05_230T02_9000000548_level2/uvit/RAS_VIS/uvt_20/F_20/', \\\n",
    "            '/home/ravioli/astro/ksp/uvit/20160720_G05_230T02_9000000548_level2/uvit/RAS_VIS/uvt_21/F_21/', \\\n",
    "            '/home/ravioli/astro/ksp/uvit/20160720_G05_230T02_9000000548_level2/uvit/RAS_VIS/uvt_22/F_22/', \\\n",
    "            '/home/ravioli/astro/ksp/uvit/20160720_G05_230T02_9000000548_level2/uvit/RAS_VIS/uvt_23/F_23/']\n",
    "\n",
    "MJD = []\n",
    "counts = []\n",
    "counts_err = []\n",
    "source = pd.DataFrame(pd.read_csv('sources_new.csv'))\n",
    "for i in range(len(directory)):\n",
    "    data = pd.read_csv(directory[i]+'makecurves_'+str(source['xp'][i])+'_'+str(source['yp'][i])+'_'+base+'.dat', delimiter='\t')\n",
    "    lc = pd.DataFrame(data)\n",
    "    MJD.append(lc.iloc[:, 0].values)\n",
    "    counts.append(lc.iloc[:, 1].values)\n",
    "    counts_err.append(lc.iloc[:, 2].values)\n",
    "MJD = np.concatenate(MJD)\n",
    "counts = np.concatenate(counts)\n",
    "counts_err = np.concatenate(counts_err)\n",
    "#np.savetxt('lc.txt', np.c_[MJD, counts, counts_err], delimiter=',', header='MJD, counts, counts_err')\n",
    "#MJD = 2444884.2176 + MJD*0.07891518"
   ]
  },
  {
   "cell_type": "code",
   "execution_count": 7,
   "metadata": {},
   "outputs": [
    {
     "name": "stderr",
     "output_type": "stream",
     "text": [
      "/tmp/ipykernel_31966/50758191.py:5: UserWarning: Matplotlib is currently using agg, which is a non-GUI backend, so cannot show the figure.\n",
      "  plt.show()\n"
     ]
    }
   ],
   "source": [
    "plt.figure(figsize=(20, 5))\n",
    "plt.errorbar(MJD, counts, yerr=counts_err, fmt='o', color='k', ms=3, elinewidth=0.5, capsize=1, capthick=0.5)\n",
    "plt.xlabel('MJD')\n",
    "plt.ylabel('Counts')\n",
    "plt.show()"
   ]
  },
  {
   "cell_type": "code",
   "execution_count": 29,
   "metadata": {},
   "outputs": [],
   "source": [
    "# plt.figure(figsize=(20, 5))\n",
    "# plt.plot(MJD, counts, color='k', linewidth=0.5)\n",
    "# plt.savefig('output2.png')"
   ]
  }
 ],
 "metadata": {
  "kernelspec": {
   "display_name": "base",
   "language": "python",
   "name": "python3"
  },
  "language_info": {
   "codemirror_mode": {
    "name": "ipython",
    "version": 3
   },
   "file_extension": ".py",
   "mimetype": "text/x-python",
   "name": "python",
   "nbconvert_exporter": "python",
   "pygments_lexer": "ipython3",
   "version": "3.9.17"
  },
  "orig_nbformat": 4
 },
 "nbformat": 4,
 "nbformat_minor": 2
}
